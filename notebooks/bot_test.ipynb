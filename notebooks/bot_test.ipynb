{
 "cells": [
  {
   "cell_type": "code",
   "id": "initial_id",
   "metadata": {
    "collapsed": true,
    "ExecuteTime": {
     "end_time": "2025-01-03T13:33:21.986664Z",
     "start_time": "2025-01-03T13:33:21.982746Z"
    }
   },
   "source": [
    "# Import necessary libraries\n",
    "import os\n",
    "import math\n",
    "import requests\n",
    "import time\n",
    "import pandas as pd\n",
    "from datetime import datetime, timedelta\n",
    "import warnings\n",
    "from selenium import webdriver\n",
    "from bs4 import BeautifulSoup\n",
    "from decimal import Decimal\n",
    "\n",
    "# Suppress warnings for cleaner output\n",
    "warnings.filterwarnings(\"ignore\", category=FutureWarning, module=\"pandas\")\n",
    "\n",
    "# Confirm environment is set up\n",
    "print(\"Environment setup complete. Libraries imported successfully.\")"
   ],
   "outputs": [
    {
     "name": "stdout",
     "output_type": "stream",
     "text": [
      "Environment setup complete. Libraries imported successfully.\n"
     ]
    }
   ],
   "execution_count": 2
  },
  {
   "metadata": {
    "ExecuteTime": {
     "end_time": "2025-01-03T13:44:55.331641Z",
     "start_time": "2025-01-03T13:44:55.067713Z"
    }
   },
   "cell_type": "code",
   "source": [
    "# Execute scraper dynamically to fetch the latest on-chain data\n",
    "import pandas as pd\n",
    "\n",
    "# Ensure the scraper code is loaded and functions correctly\n",
    "# This assumes your scraper's output is `crypto_df` and `l`\n",
    "\n",
    "# Example: Calling your scraper function (replace with the actual scraper code)\n",
    "crypto_df = pd.DataFrame(crypto_data)  # Data from your scraper\n",
    "network_links = pd.DataFrame(l)  # Network details from `l`\n",
    "\n",
    "# Combine both into a single DataFrame\n",
    "onchain_data = pd.concat([crypto_df, network_links], axis=1)\n",
    "\n",
    "# Verify the structure\n",
    "print(onchain_data.head())\n",
    "\n",
    "# Save the dynamic on-chain data for immediate use in trading logic\n",
    "# If desired, skip saving to file\n",
    "onchain_data.to_csv('dynamic_onchain_data.csv', index=False)\n",
    "\n",
    "# Now, `onchain_data` is ready for the next stage of the bot\n"
   ],
   "id": "4113f74b86f22065",
   "outputs": [
    {
     "ename": "NameError",
     "evalue": "name 'crypto_data' is not defined",
     "output_type": "error",
     "traceback": [
      "\u001B[1;31m---------------------------------------------------------------------------\u001B[0m",
      "\u001B[1;31mNameError\u001B[0m                                 Traceback (most recent call last)",
      "Cell \u001B[1;32mIn[3], line 8\u001B[0m\n\u001B[0;32m      2\u001B[0m \u001B[38;5;28;01mimport\u001B[39;00m \u001B[38;5;21;01mpandas\u001B[39;00m \u001B[38;5;28;01mas\u001B[39;00m \u001B[38;5;21;01mpd\u001B[39;00m\n\u001B[0;32m      4\u001B[0m \u001B[38;5;66;03m# Ensure the scraper code is loaded and functions correctly\u001B[39;00m\n\u001B[0;32m      5\u001B[0m \u001B[38;5;66;03m# This assumes your scraper's output is `crypto_df` and `l`\u001B[39;00m\n\u001B[0;32m      6\u001B[0m \n\u001B[0;32m      7\u001B[0m \u001B[38;5;66;03m# Example: Calling your scraper function (replace with the actual scraper code)\u001B[39;00m\n\u001B[1;32m----> 8\u001B[0m crypto_df \u001B[38;5;241m=\u001B[39m pd\u001B[38;5;241m.\u001B[39mDataFrame(\u001B[43mcrypto_data\u001B[49m)  \u001B[38;5;66;03m# Data from your scraper\u001B[39;00m\n\u001B[0;32m      9\u001B[0m network_links \u001B[38;5;241m=\u001B[39m pd\u001B[38;5;241m.\u001B[39mDataFrame(l)  \u001B[38;5;66;03m# Network details from `l`\u001B[39;00m\n\u001B[0;32m     11\u001B[0m \u001B[38;5;66;03m# Combine both into a single DataFrame\u001B[39;00m\n",
      "\u001B[1;31mNameError\u001B[0m: name 'crypto_data' is not defined"
     ]
    }
   ],
   "execution_count": 3
  }
 ],
 "metadata": {
  "kernelspec": {
   "display_name": "Python 3",
   "language": "python",
   "name": "python3"
  },
  "language_info": {
   "codemirror_mode": {
    "name": "ipython",
    "version": 2
   },
   "file_extension": ".py",
   "mimetype": "text/x-python",
   "name": "python",
   "nbconvert_exporter": "python",
   "pygments_lexer": "ipython2",
   "version": "2.7.6"
  }
 },
 "nbformat": 4,
 "nbformat_minor": 5
}
